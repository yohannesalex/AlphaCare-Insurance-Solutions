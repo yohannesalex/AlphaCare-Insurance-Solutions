{
 "cells": [
  {
   "cell_type": "markdown",
   "metadata": {},
   "source": [
    "### A/B - Hypothesis Testing"
   ]
  },
  {
   "cell_type": "code",
   "execution_count": 15,
   "metadata": {},
   "outputs": [],
   "source": [
    "# Import standard python libraries\n",
    "import pandas as pd\n",
    "import os,sys\n",
    "\n",
    "# Get the absolute path of the parent directory\n",
    "rpath = os.path.abspath('..')\n",
    "if rpath not in sys.path:\n",
    "    sys.path.insert(0, rpath)\n"
   ]
  },
  {
   "cell_type": "code",
   "execution_count": 12,
   "metadata": {},
   "outputs": [],
   "source": [
    "# Loading modules from the script directory\n",
    "from scripts.hypothesis_test import *"
   ]
  },
  {
   "cell_type": "code",
   "execution_count": 16,
   "metadata": {},
   "outputs": [],
   "source": [
    "# Read the dataset\n",
    "df = pd.read_csv('../data/cleaned_data.csv',index_col=False,low_memory=False)"
   ]
  },
  {
   "cell_type": "markdown",
   "metadata": {},
   "source": [
    "Accept or reject the following Null Hypotheses:\n",
    "\n",
    "1. There are no risk differences across provinces.\n",
    "\n",
    "2. There are no risk differences between zip codes.\n",
    "\n",
    "3. There are no significant margin (profit) difference between zip codes.\n",
    "\n",
    "4. There are not significant risk difference between Women and Men."
   ]
  },
  {
   "cell_type": "code",
   "execution_count": 18,
   "metadata": {},
   "outputs": [
    {
     "name": "stdout",
     "output_type": "stream",
     "text": [
      "Risk Differences Across Provinces\n",
      "Chi-squared test on Province and TotalPremium: chi2 = 2491500.912683971, p-value = 0.0\n",
      "Reject the null hypothesis.\n",
      "\n",
      "Risk Differences Between Postal Codes\n",
      "Chi-squared test on PostalCode and TotalPremium: chi2 = 224052676.14292973, p-value = 0.0\n",
      "Reject the null hypothesis.\n",
      "\n",
      "Margin Differences Between Postal Codes\n",
      "Z-test on TotalPremium: Z-statistic = -0.4370784074657527, p-value = 0.6620544861020186\n",
      "Fail to reject the null hypothesis.\n",
      "\n",
      "Risk Differences Between Women and Men\n",
      "T-test on TotalPremium: T-statistic = -5.118420932688848, p-value = 3.0925282750010697e-07\n",
      "Reject the null hypothesis.\n",
      "\n"
     ]
    }
   ],
   "source": [
    "# Hypothesis test result\n",
    "ab_result = result_hypothesis(df)\n",
    "\n",
    "for test_name, result in ab_result.items():\n",
    "    print(f'{test_name}')\n",
    "    print(result)\n",
    "    print() "
   ]
  }
 ],
 "metadata": {
  "kernelspec": {
   "display_name": "Python (myenv_w3)",
   "language": "python",
   "name": "myenv_w3"
  },
  "language_info": {
   "codemirror_mode": {
    "name": "ipython",
    "version": 3
   },
   "file_extension": ".py",
   "mimetype": "text/x-python",
   "name": "python",
   "nbconvert_exporter": "python",
   "pygments_lexer": "ipython3",
   "version": "3.12.3"
  }
 },
 "nbformat": 4,
 "nbformat_minor": 2
}
