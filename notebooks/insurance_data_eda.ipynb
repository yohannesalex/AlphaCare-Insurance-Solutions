{
 "cells": [
  {
   "cell_type": "markdown",
   "metadata": {},
   "source": [
    "# Insurance Data Analysis - Exploratory Data Analysis (EDA)\n",
    "This notebook demonstrates the exploratory data analysis for insurance data, focusing on:\n",
    "1. Descriptive statistics for key metrics (`Total_Claim` and `Premium`).\n",
    "2. Visualizations of claims and premiums by province, gender, and zipcode.\n",
    "3. Analysis of premium-to-claim ratios to identify profitable segments.\n",
    "4. Identification of low-risk targets for marketing optimization.\n"
   ]
  },
  {
   "cell_type": "code",
   "execution_count": 17,
   "metadata": {},
   "outputs": [],
   "source": [
    "# Import necessary libraries\n",
    "import pandas as pd\n",
    "import numpy as np"
   ]
  },
  {
   "cell_type": "code",
   "execution_count": 18,
   "metadata": {},
   "outputs": [],
   "source": [
    "#\n",
    "import sys\n",
    "import os\n",
    "sys.path.append(os.path.abspath('..'))"
   ]
  },
  {
   "cell_type": "code",
   "execution_count": 19,
   "metadata": {},
   "outputs": [],
   "source": [
    "from scripts.insurance_data_analysis import InsuranceDataAnalysis\n"
   ]
  },
  {
   "cell_type": "code",
   "execution_count": null,
   "metadata": {},
   "outputs": [],
   "source": [
    "# # Generate or load your dataset\n",
    "# np.random.seed(42)\n",
    "# df = pd.DataFrame({\n",
    "#     'Province': np.random.choice(['A', 'B', 'C'], 1000),\n",
    "#     'Zipcode': np.random.choice(['1001', '1002', '1003'], 1000),\n",
    "#     'Gender': np.random.choice(['Male', 'Female'], 1000)\n",
    "# })\n",
    "\n",
    "# # Create imbalanced Total_Claim\n",
    "# df['Total_Claim'] = (\n",
    "#     np.random.gamma(shape=2, scale=400, size=1000) +\n",
    "#     df['Province'].map({'A': 200, 'B': 100, 'C': 50}) +\n",
    "#     df['Gender'].map({'Male': 50, 'Female': -50})\n",
    "# )\n",
    "\n",
    "# # Create imbalanced Premium\n",
    "# df['Premium'] = (\n",
    "#     np.random.normal(1000, 150, 1000) +\n",
    "#     df['Province'].map({'A': 100, 'B': 200, 'C': -50}) +\n",
    "#     df['Zipcode'].map({'1001': 50, '1002': -50, '1003': 100})\n",
    "# )\n",
    "\n",
    "# # Ensure no negative values\n",
    "# df['Total_Claim'] = df['Total_Claim'].clip(lower=0)\n",
    "# df['Premium'] = df['Premium'].clip(lower=0)\n",
    "\n"
   ]
  },
  {
   "cell_type": "code",
   "execution_count": null,
   "metadata": {},
   "outputs": [],
   "source": [
    "# df.to_csv('../data/insurance_data.csv')"
   ]
  },
  {
   "cell_type": "code",
   "execution_count": 20,
   "metadata": {},
   "outputs": [],
   "source": [
    "#read the data\n",
    "df=pd.read_csv('../data/insurance_data.csv')"
   ]
  },
  {
   "cell_type": "code",
   "execution_count": 21,
   "metadata": {},
   "outputs": [
    {
     "data": {
      "text/html": [
       "<div>\n",
       "<style scoped>\n",
       "    .dataframe tbody tr th:only-of-type {\n",
       "        vertical-align: middle;\n",
       "    }\n",
       "\n",
       "    .dataframe tbody tr th {\n",
       "        vertical-align: top;\n",
       "    }\n",
       "\n",
       "    .dataframe thead th {\n",
       "        text-align: right;\n",
       "    }\n",
       "</style>\n",
       "<table border=\"1\" class=\"dataframe\">\n",
       "  <thead>\n",
       "    <tr style=\"text-align: right;\">\n",
       "      <th></th>\n",
       "      <th>Unnamed: 0</th>\n",
       "      <th>Province</th>\n",
       "      <th>Zipcode</th>\n",
       "      <th>Gender</th>\n",
       "      <th>Total_Claim</th>\n",
       "      <th>Premium</th>\n",
       "    </tr>\n",
       "  </thead>\n",
       "  <tbody>\n",
       "    <tr>\n",
       "      <th>0</th>\n",
       "      <td>0</td>\n",
       "      <td>C</td>\n",
       "      <td>1003</td>\n",
       "      <td>Female</td>\n",
       "      <td>652.740226</td>\n",
       "      <td>898.493109</td>\n",
       "    </tr>\n",
       "    <tr>\n",
       "      <th>1</th>\n",
       "      <td>1</td>\n",
       "      <td>A</td>\n",
       "      <td>1003</td>\n",
       "      <td>Female</td>\n",
       "      <td>1159.389368</td>\n",
       "      <td>1040.563548</td>\n",
       "    </tr>\n",
       "    <tr>\n",
       "      <th>2</th>\n",
       "      <td>2</td>\n",
       "      <td>C</td>\n",
       "      <td>1003</td>\n",
       "      <td>Male</td>\n",
       "      <td>729.641413</td>\n",
       "      <td>1137.593249</td>\n",
       "    </tr>\n",
       "    <tr>\n",
       "      <th>3</th>\n",
       "      <td>3</td>\n",
       "      <td>C</td>\n",
       "      <td>1003</td>\n",
       "      <td>Female</td>\n",
       "      <td>253.524198</td>\n",
       "      <td>764.332164</td>\n",
       "    </tr>\n",
       "    <tr>\n",
       "      <th>4</th>\n",
       "      <td>4</td>\n",
       "      <td>A</td>\n",
       "      <td>1001</td>\n",
       "      <td>Male</td>\n",
       "      <td>938.056933</td>\n",
       "      <td>1349.828367</td>\n",
       "    </tr>\n",
       "    <tr>\n",
       "      <th>...</th>\n",
       "      <td>...</td>\n",
       "      <td>...</td>\n",
       "      <td>...</td>\n",
       "      <td>...</td>\n",
       "      <td>...</td>\n",
       "      <td>...</td>\n",
       "    </tr>\n",
       "    <tr>\n",
       "      <th>995</th>\n",
       "      <td>995</td>\n",
       "      <td>B</td>\n",
       "      <td>1001</td>\n",
       "      <td>Female</td>\n",
       "      <td>1099.492601</td>\n",
       "      <td>1115.364997</td>\n",
       "    </tr>\n",
       "    <tr>\n",
       "      <th>996</th>\n",
       "      <td>996</td>\n",
       "      <td>B</td>\n",
       "      <td>1003</td>\n",
       "      <td>Female</td>\n",
       "      <td>877.886857</td>\n",
       "      <td>1250.101777</td>\n",
       "    </tr>\n",
       "    <tr>\n",
       "      <th>997</th>\n",
       "      <td>997</td>\n",
       "      <td>C</td>\n",
       "      <td>1002</td>\n",
       "      <td>Female</td>\n",
       "      <td>776.679394</td>\n",
       "      <td>1090.145906</td>\n",
       "    </tr>\n",
       "    <tr>\n",
       "      <th>998</th>\n",
       "      <td>998</td>\n",
       "      <td>C</td>\n",
       "      <td>1003</td>\n",
       "      <td>Male</td>\n",
       "      <td>649.706237</td>\n",
       "      <td>1109.161280</td>\n",
       "    </tr>\n",
       "    <tr>\n",
       "      <th>999</th>\n",
       "      <td>999</td>\n",
       "      <td>A</td>\n",
       "      <td>1003</td>\n",
       "      <td>Male</td>\n",
       "      <td>910.801967</td>\n",
       "      <td>1174.281476</td>\n",
       "    </tr>\n",
       "  </tbody>\n",
       "</table>\n",
       "<p>1000 rows × 6 columns</p>\n",
       "</div>"
      ],
      "text/plain": [
       "     Unnamed: 0 Province  Zipcode  Gender  Total_Claim      Premium\n",
       "0             0        C     1003  Female   652.740226   898.493109\n",
       "1             1        A     1003  Female  1159.389368  1040.563548\n",
       "2             2        C     1003    Male   729.641413  1137.593249\n",
       "3             3        C     1003  Female   253.524198   764.332164\n",
       "4             4        A     1001    Male   938.056933  1349.828367\n",
       "..          ...      ...      ...     ...          ...          ...\n",
       "995         995        B     1001  Female  1099.492601  1115.364997\n",
       "996         996        B     1003  Female   877.886857  1250.101777\n",
       "997         997        C     1002  Female   776.679394  1090.145906\n",
       "998         998        C     1003    Male   649.706237  1109.161280\n",
       "999         999        A     1003    Male   910.801967  1174.281476\n",
       "\n",
       "[1000 rows x 6 columns]"
      ]
     },
     "execution_count": 21,
     "metadata": {},
     "output_type": "execute_result"
    }
   ],
   "source": [
    "df"
   ]
  },
  {
   "cell_type": "code",
   "execution_count": null,
   "metadata": {},
   "outputs": [],
   "source": [
    "# Initialize the analysis class\n",
    "analysis = InsuranceDataAnalysis(df)"
   ]
  },
  {
   "cell_type": "markdown",
   "metadata": {},
   "source": [
    "## Descriptive Statistics\n",
    "This section provides summary statistics for `Total_Claim` and `Premium` across various segments like province and gender.\n"
   ]
  },
  {
   "cell_type": "code",
   "execution_count": null,
   "metadata": {},
   "outputs": [],
   "source": [
    "# Generate descriptive statistics\n",
    "grouped_stats = analysis.descriptive_statistics()\n",
    "grouped_stats\n"
   ]
  },
  {
   "cell_type": "markdown",
   "metadata": {},
   "source": [
    "## Visualizations\n",
    "Visualize `Total_Claim` and `Premium` distributions across different categories to identify patterns and actionable insights.\n"
   ]
  },
  {
   "cell_type": "code",
   "execution_count": null,
   "metadata": {},
   "outputs": [],
   "source": [
    "# Visualize total claims by province\n",
    "analysis.visualize_total_claims_by_province()\n"
   ]
  },
  {
   "cell_type": "code",
   "execution_count": null,
   "metadata": {},
   "outputs": [],
   "source": [
    "# Visualize premiums by province\n",
    "analysis.visualize_premiums_by_province()\n"
   ]
  },
  {
   "cell_type": "code",
   "execution_count": null,
   "metadata": {},
   "outputs": [],
   "source": [
    "# Visualize premium-to-claim ratio by gender\n",
    "analysis.visualize_premium_to_claim_ratio_by_gender()\n"
   ]
  },
  {
   "cell_type": "code",
   "execution_count": null,
   "metadata": {},
   "outputs": [],
   "source": [
    "# Visualize premium-to-claim ratio by zipcode\n",
    "analysis.visualize_premium_to_claim_ratio_by_zipcode()\n"
   ]
  },
  {
   "cell_type": "markdown",
   "metadata": {},
   "source": [
    "## Identifying Key Segments\n",
    "### 1. Profitable Segments\n",
    "Segments with high premium-to-claim ratios represent profitable groups for the company.\n",
    "\n",
    "### 2. Low-Risk Targets\n",
    "Segments with below-average total claims represent potential low-risk groups for premium reductions.\n"
   ]
  },
  {
   "cell_type": "markdown",
   "metadata": {},
   "source": [
    "## Analysis of Premium-to-Claim Ratio by Province and Gender\n",
    "\n",
    "### Overview\n",
    "This table summarizes the **Average Premium-to-Claim Ratios** (`Avg_Ratio`) and the **Customer Count** (`Count`) across different provinces and genders. These insights are crucial for identifying profitable segments and optimizing marketing strategies."
   ]
  },
  {
   "cell_type": "code",
   "execution_count": null,
   "metadata": {},
   "outputs": [],
   "source": [
    "# Highlight profitable segments\n",
    "profitable_segments = analysis.highlight_profitable_segments()\n",
    "profitable_segments\n"
   ]
  },
  {
   "cell_type": "markdown",
   "metadata": {},
   "source": [
    "### Key Insights\n",
    "\n",
    "1. **Understanding Avg_Ratio:**\n",
    "   - The `Avg_Ratio` reflects the average ratio of premiums paid to claims made for each segment.\n",
    "   - A higher ratio indicates that premiums significantly exceed claims, signaling a profitable group for the insurer.\n",
    "\n",
    "2. **Understanding Count:**\n",
    "   - The `Count` column shows the number of customers in each segment. Segments with a high count represent a substantial customer base, providing opportunities for large-scale strategies.\n",
    "\n",
    "### Observations\n",
    "\n",
    "1. **Profitable Segments:**\n",
    "   - **Province B (Female)** and **Province C (Female)** exhibit the highest `Avg_Ratio` values (2.37 and 2.32, respectively). These groups are highly profitable, as premiums exceed claims by more than double on average.\n",
    "   - These segments could be targeted with premium reductions to attract more customers while maintaining profitability.\n",
    "\n",
    "2. **Balanced Segments:**\n",
    "   - **Province A (Female)** and **Province C (Male)** have lower `Avg_Ratio` values (1.63 and 1.57, respectively). While these groups are profitable, they are less over-insured compared to others.\n",
    "   - These segments could benefit from stable premiums to ensure customer retention.\n",
    "\n",
    "3. **Marketing Opportunities:**\n",
    "   - **Province B (Male)** has a significant `Avg_Ratio` of 1.72 and a moderate customer base of 156. This segment offers opportunities for expansion through targeted marketing campaigns.\n",
    "\n",
    "4. **High-Count Segments:**\n",
    "   - Segments with high customer counts, such as **Province A (Female)** with 176 customers, provide opportunities for broader marketing campaigns or customer satisfaction initiatives.\n",
    "\n",
    "### Strategic Recommendations\n",
    "\n",
    "1. **Optimize Marketing for High Avg_Ratio Segments:**\n",
    "   - Focus on **Province B (Female)** and **Province C (Female)** for marketing campaigns that offer premium discounts or loyalty incentives to attract more customers without risking profitability.\n",
    "\n",
    "2. **Retention Strategies for Balanced Segments:**\n",
    "   - Maintain competitive premiums for **Province A (Female)** and **Province C (Male)** to ensure customer retention and explore cross-selling opportunities.\n",
    "\n",
    "3. **Expand in Profitable Male Segments:**\n",
    "   - **Province B (Male)** offers potential for growth. Target this group with customized marketing efforts to increase market share.\n"
   ]
  },
  {
   "cell_type": "markdown",
   "metadata": {},
   "source": [
    "## Identifying Low-Risk Targets for Premium Reduction\n",
    "\n",
    "### Overview\n",
    "This analysis aims to identify **low-risk segments**—groups with below-average total claims. These groups are potential targets for premium reductions, which can attract new clients without significantly increasing the insurer's risk exposure."
   ]
  },
  {
   "cell_type": "code",
   "execution_count": null,
   "metadata": {},
   "outputs": [],
   "source": [
    "# Identify low-risk targets\n",
    "low_risk_targets = analysis.identify_low_risk_targets()\n",
    "low_risk_targets\n"
   ]
  },
  {
   "cell_type": "markdown",
   "metadata": {},
   "source": [
    "### Key Insights\n",
    "\n",
    "1. **Understanding Low-Risk Segments:**\n",
    "   - Low-risk segments are defined as groups where the average total claims (`Avg_Total_Claim`) are significantly below the overall average.\n",
    "   - These groups offer opportunities for premium reductions while maintaining profitability.\n",
    "\n",
    "2. **Highlighted Low-Risk Segments:**\n",
    "   - The analysis identified the following low-risk segments:\n",
    "     - **Province B (Female):** `Avg_Total_Claim = 904.85`\n",
    "     - **Province C (Female):** `Avg_Total_Claim = 739.59`\n",
    "     - **Province C (Male):** `Avg_Total_Claim = 917.09`\n",
    "   - These segments exhibit lower-than-average total claims and present a good balance between risk and opportunity.\n",
    "\n",
    "3. **Comparing Premiums:**\n",
    "   - Despite lower claims, the premium values (`Avg_Premium`) for these segments are competitive:\n",
    "     - **Province B (Female):** `Avg_Premium = 1242.24`\n",
    "     - **Province C (Female):** `Avg_Premium = 956.30`\n",
    "     - **Province C (Male):** `Avg_Premium = 968.13`\n",
    "   - This indicates that premium reductions in these groups can attract new clients while ensuring sustained profitability.\n",
    "\n",
    "4. **Count of Customers:**\n",
    "   - Customer counts in these low-risk segments are significant, providing a substantial base for potential premium adjustments:\n",
    "     - **Province B (Female):** `170 customers`\n",
    "     - **Province C (Female):** `165 customers`\n",
    "     - **Province C (Male):** `154 customers`\n",
    "\n",
    "### Observations\n",
    "\n",
    "1. **Province C Dominance:**\n",
    "   - Province C, for both genders, consistently shows low `Avg_Total_Claim` values, making it an ideal region for premium adjustments.\n",
    "   \n",
    "2. **Balanced Premiums in Province B:**\n",
    "   - Although the claims in **Province B (Female)** are low, the average premium is high, suggesting a high-profit potential. Adjustments here can attract new clients while ensuring profitability.\n",
    "\n",
    "3. **Gender-Based Patterns:**\n",
    "   - Females in **Province B** and **Province C** exhibit significantly lower average claims compared to their male counterparts, presenting an opportunity for targeted marketing strategies.\n",
    "\n",
    "### Strategic Recommendations\n",
    "\n",
    "1. **Target Low-Risk Segments for Premium Reductions:**\n",
    "   - Focus on **Province B (Female)** and **Province C (Female and Male)** as they offer a balance of low claims and competitive premiums.\n",
    "\n",
    "2. **Region-Specific Marketing Campaigns:**\n",
    "   - Develop marketing campaigns for **Province C**, highlighting reduced premiums for both genders to attract more clients in this low-risk region.\n",
    "\n",
    "3. **Retain Profitability in Province B:**\n",
    "   - For **Province B (Female)**, carefully evaluate the impact of premium reductions on profitability before implementation.\n",
    "\n",
    "\n",
    "\n"
   ]
  }
 ],
 "metadata": {
  "kernelspec": {
   "display_name": "eda",
   "language": "python",
   "name": "python3"
  },
  "language_info": {
   "codemirror_mode": {
    "name": "ipython",
    "version": 3
   },
   "file_extension": ".py",
   "mimetype": "text/x-python",
   "name": "python",
   "nbconvert_exporter": "python",
   "pygments_lexer": "ipython3",
   "version": "3.11.9"
  }
 },
 "nbformat": 4,
 "nbformat_minor": 2
}
