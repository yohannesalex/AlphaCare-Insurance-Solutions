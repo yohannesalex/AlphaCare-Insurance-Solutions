{
 "cells": [
  {
   "cell_type": "markdown",
   "metadata": {},
   "source": [
    "# A/B Hypothesis Testing "
   ]
  },
  {
   "cell_type": "code",
   "execution_count": 2,
   "metadata": {},
   "outputs": [],
   "source": [
    "# Import necessary libraries\n",
    "import pandas as pd\n",
    "import numpy as np\n",
    "\n"
   ]
  },
  {
   "cell_type": "code",
   "execution_count": 3,
   "metadata": {},
   "outputs": [],
   "source": [
    "#\n",
    "import sys\n",
    "import os\n",
    "sys.path.append(os.path.abspath('..'))"
   ]
  },
  {
   "cell_type": "code",
   "execution_count": 4,
   "metadata": {},
   "outputs": [],
   "source": [
    "from scripts.ab_hypothesis_testing import ABHypothesisTesting"
   ]
  },
  {
   "cell_type": "code",
   "execution_count": 5,
   "metadata": {},
   "outputs": [],
   "source": [
    "df=pd.read_csv('../data/insurance_data.csv')"
   ]
  },
  {
   "cell_type": "code",
   "execution_count": 6,
   "metadata": {},
   "outputs": [],
   "source": [
    "# Initialize the hypothesis testing class\n",
    "hypothesis_testing = ABHypothesisTesting(df)\n"
   ]
  },
  {
   "cell_type": "markdown",
   "metadata": {},
   "source": [
    "## Risk Differences Across Provinces\n",
    "\n",
    "### Analysis Objective\n",
    "This test examines whether there are significant differences in **risk levels** (measured by `Total Claims`) across provinces. The goal is to understand how risk varies regionally, which can inform province-specific policies or risk management strategies.\n",
    "\n",
    "### Hypotheses\n",
    "- **Null Hypothesis (H₀):** No risk differences across provinces.\n",
    "- **Alternative Hypothesis (H₁):** Risk differences exist across provinces."
   ]
  },
  {
   "cell_type": "code",
   "execution_count": 7,
   "metadata": {},
   "outputs": [
    {
     "data": {
      "text/plain": [
       "{'Test': 'ANOVA',\n",
       " 'Null Hypothesis': 'No risk differences across provinces',\n",
       " 'F-Statistic': 8.626482565483611,\n",
       " 'p-Value': 0.0001930246778774567,\n",
       " 'Reject Null': True}"
      ]
     },
     "execution_count": 7,
     "metadata": {},
     "output_type": "execute_result"
    }
   ],
   "source": [
    "# Test if there are risk differences across provinces\n",
    "province_test_result = hypothesis_testing.test_risk_across_provinces()\n",
    "province_test_result\n"
   ]
  },
  {
   "cell_type": "markdown",
   "metadata": {},
   "source": [
    "\n",
    "### Results\n",
    "- **Test Type:** ANOVA (Analysis of Variance)\n",
    "  - Compares the mean `Total Claims` across multiple provinces.\n",
    "- **F-Statistic:** 8.626\n",
    "  - Indicates that the variance in `Total Claims` between provinces is significantly greater than the variance within provinces.\n",
    "- **p-Value:** 0.000193\n",
    "  - This value is much smaller than the common significance level of 0.05, suggesting the observed differences are highly unlikely to be due to random chance.\n",
    "- **Decision:** Reject the null hypothesis (H₀).\n",
    "\n",
    "### Conclusion\n",
    "There is strong evidence to conclude that **significant risk differences exist across provinces**.\n",
    "\n",
    "### Implications\n",
    "1. **Risk Management:** Provinces with higher average claims may require stricter risk mitigation measures, while lower-risk provinces could benefit from premium reductions.\n",
    "2. **Pricing Strategy:** Develop province-specific premium structures to reflect the risk profile of each province.\n",
    "3. **Further Analysis:** Investigate the factors contributing to risk differences, such as demographic, geographic, or economic factors.\n",
    "\n"
   ]
  },
  {
   "cell_type": "markdown",
   "metadata": {},
   "source": [
    "## Risk Differences Between Zip Codes\n",
    "\n",
    "### Analysis Objective\n",
    "This test examines whether there are significant differences in **risk levels** (measured by `Total Claims`) between zip codes. The goal is to evaluate how risk varies geographically at a finer level, providing insights for localized strategies.\n",
    "\n",
    "### Hypotheses\n",
    "- **Null Hypothesis (H₀):** No risk differences between zip codes.\n",
    "- **Alternative Hypothesis (H₁):** Risk differences exist between zip codes."
   ]
  },
  {
   "cell_type": "code",
   "execution_count": 8,
   "metadata": {},
   "outputs": [
    {
     "data": {
      "text/plain": [
       "{'Test': 'ANOVA',\n",
       " 'Null Hypothesis': 'No risk differences between zip codes',\n",
       " 'F-Statistic': 1.6365345978982229,\n",
       " 'p-Value': 0.1951758838795849,\n",
       " 'Reject Null': False}"
      ]
     },
     "execution_count": 8,
     "metadata": {},
     "output_type": "execute_result"
    }
   ],
   "source": [
    "# Test if there are risk differences between zip codes\n",
    "zipcode_test_result = hypothesis_testing.test_risk_between_zipcodes()\n",
    "zipcode_test_result\n"
   ]
  },
  {
   "cell_type": "markdown",
   "metadata": {},
   "source": [
    "### Results\n",
    "- **Test Type:** ANOVA (Analysis of Variance)\n",
    "  - Compares the mean `Total Claims` across multiple zip codes.\n",
    "- **F-Statistic:** 1.637\n",
    "  - Suggests a relatively low variance in `Total Claims` between zip codes compared to within zip codes.\n",
    "- **p-Value:** 0.195\n",
    "  - This value is greater than the common significance level of 0.05, indicating that the observed differences are likely due to random chance.\n",
    "- **Decision:** Fail to reject the null hypothesis (H₀).\n",
    "\n",
    "### Conclusion\n",
    "There is **insufficient evidence** to conclude that significant risk differences exist between zip codes. Any observed differences in `Total Claims` are likely due to random variation.\n",
    "\n",
    "### Implications\n",
    "1. **Uniform Risk Strategy:** Since risk levels appear consistent across zip codes, there may be no need for differentiated risk management or pricing strategies based on zip codes.\n",
    "2. **Further Exploration:** Investigate other variables (e.g., demographics, policy types) that may reveal meaningful differences between zip codes.\n",
    "3. **Combination Analysis:** Consider analyzing zip code risk differences alongside other factors, such as region or gender, for a more comprehensive understanding.\n",
    "\n",
    "### Next Steps\n",
    "- Visualize `Total Claims` by zip code to confirm the absence of meaningful trends.\n",
    "- Conduct subgroup analyses (e.g., zip code and gender combinations) to uncover any hidden patterns.\n"
   ]
  },
  {
   "cell_type": "markdown",
   "metadata": {},
   "source": [
    "## Margin Differences Between Zip Codes\n",
    "\n",
    "### Analysis Objective\n",
    "This test examines whether **profit margins** (calculated as `Premium - Total Claims`) differ significantly across zip codes. Profit margin reflects the profitability of policies in each zip code, making this analysis critical for identifying underperforming or highly profitable areas.\n",
    "\n",
    "### Key Difference from Risk Differences Test\n",
    "- **Test Risk Between Zip Codes:**\n",
    "  - Focuses on analyzing **Total Claims** to determine if there are significant risk differences between zip codes.\n",
    "  - Guides **risk management** strategies by identifying regions with higher or lower claims.\n",
    "- **Test Margin Differences Between Zip Codes:**\n",
    "  - Focuses on analyzing **Profit Margins** (`Premium - Total Claims`) to determine if there are significant profitability differences between zip codes.\n",
    "  - Guides **pricing and profitability optimization** by highlighting regions that are overperforming or underperforming.\n",
    "\n",
    "### Hypotheses\n",
    "- **Null Hypothesis (H₀):** No significant margin differences between zip codes.\n",
    "- **Alternative Hypothesis (H₁):** Significant margin differences exist between zip codes."
   ]
  },
  {
   "cell_type": "code",
   "execution_count": 9,
   "metadata": {},
   "outputs": [
    {
     "data": {
      "text/plain": [
       "{'Test': 'ANOVA',\n",
       " 'Null Hypothesis': 'No significant margin differences between zip codes',\n",
       " 'F-Statistic': 14.131693475190742,\n",
       " 'p-Value': 8.872893794662912e-07,\n",
       " 'Reject Null': True}"
      ]
     },
     "execution_count": 9,
     "metadata": {},
     "output_type": "execute_result"
    }
   ],
   "source": [
    "# Test if there are significant margin differences between zip codes\n",
    "margin_test_result = hypothesis_testing.test_margin_difference_between_zipcodes()\n",
    "margin_test_result\n"
   ]
  },
  {
   "cell_type": "markdown",
   "metadata": {},
   "source": [
    "### Results\n",
    "- **F-Statistic:** 14.132\n",
    "  - Indicates a large variance in profit margins across zip codes compared to within-group variance.\n",
    "- **p-Value:** 8.87e-07\n",
    "  - This value is far below the common significance level of 0.05, indicating that the observed differences are highly unlikely to be due to random chance.\n",
    "- **Decision:** Reject the null hypothesis (H₀).\n",
    "\n",
    "### Conclusion\n",
    "There is strong evidence to conclude that **significant profit margin differences exist between zip codes**.\n",
    "\n",
    "### Implications\n",
    "1. **Profit Optimization:** Tailor strategies to specific zip codes based on their profitability. For example:\n",
    "   - Focus on enhancing profitability in underperforming zip codes.\n",
    "   - Sustain or expand in highly profitable zip codes.\n",
    "2. **Pricing Adjustments:** Evaluate zip codes with lower profit margins and consider revising premiums or reducing costs.\n",
    "3. **Further Exploration:** Investigate factors driving these differences, such as demographics, policy mix, or claim frequency.\n",
    "\n"
   ]
  },
  {
   "cell_type": "markdown",
   "metadata": {},
   "source": [
    "## Interpretation: Risk Differences Between Genders\n",
    "\n",
    "### Analysis Objective\n",
    "This test examines whether there are significant differences in **risk levels** (measured by `Total Claims`) between genders. Understanding risk differences by gender can help insurers design gender-specific policies or adjust premiums based on claims data.\n",
    "\n",
    "### Hypotheses\n",
    "- **Null Hypothesis (H₀):** No significant risk differences between women and men.\n",
    "- **Alternative Hypothesis (H₁):** Significant risk differences exist between women and men."
   ]
  },
  {
   "cell_type": "code",
   "execution_count": 10,
   "metadata": {},
   "outputs": [
    {
     "data": {
      "text/plain": [
       "{'Test': 'T-Test',\n",
       " 'Null Hypothesis': 'No significant risk differences between women and men',\n",
       " 'T-Statistic': 3.5693545588418787,\n",
       " 'p-Value': 0.00037512158401762627,\n",
       " 'Reject Null': True}"
      ]
     },
     "execution_count": 10,
     "metadata": {},
     "output_type": "execute_result"
    }
   ],
   "source": [
    "# Test if there are significant risk differences between genders\n",
    "gender_test_result = hypothesis_testing.test_risk_difference_gender()\n",
    "gender_test_result\n"
   ]
  },
  {
   "cell_type": "markdown",
   "metadata": {},
   "source": [
    "### Results\n",
    "- **Test Type:** T-Test (Independent Samples)\n",
    "  - Compares the mean `Total Claims` between two independent groups: women and men.\n",
    "- **T-Statistic:** 3.569\n",
    "  - Indicates the magnitude of the difference between the means relative to the variability within groups.\n",
    "- **p-Value:** 0.000375\n",
    "  - This value is much smaller than the common significance level of 0.05, suggesting that the observed differences are highly unlikely to be due to random chance.\n",
    "- **Decision:** Reject the null hypothesis (H₀).\n",
    "\n",
    "### Conclusion\n",
    "There is strong evidence to conclude that **significant risk differences exist between women and men**.\n",
    "\n",
    "### Implications\n",
    "1. **Gender-Specific Strategies:**\n",
    "   - If men or women exhibit consistently higher claims, tailor policies, premiums, or risk mitigation strategies accordingly.\n",
    "2. **Premium Adjustments:**\n",
    "   - For the gender with lower average claims, consider offering reduced premiums to attract more clients.\n",
    "3. **Further Analysis:**\n",
    "   - Investigate underlying factors contributing to the differences, such as claim frequency, type of coverage, or demographic influences.\n"
   ]
  }
 ],
 "metadata": {
  "kernelspec": {
   "display_name": "eda",
   "language": "python",
   "name": "python3"
  },
  "language_info": {
   "codemirror_mode": {
    "name": "ipython",
    "version": 3
   },
   "file_extension": ".py",
   "mimetype": "text/x-python",
   "name": "python",
   "nbconvert_exporter": "python",
   "pygments_lexer": "ipython3",
   "version": "3.11.9"
  }
 },
 "nbformat": 4,
 "nbformat_minor": 2
}
